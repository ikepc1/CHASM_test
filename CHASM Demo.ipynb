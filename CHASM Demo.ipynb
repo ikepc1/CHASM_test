{
 "cells": [
  {
   "cell_type": "markdown",
   "metadata": {},
   "source": [
    "# CHASM (CHerenkov Air Shower Model) Demo\n",
    "## Hypothetical Tau Primary Upward Air Shower\n",
    "This notebook shows how to use the CHASM program to simulate the Cerenkov light profile of an air shower using universality. First import some stuff we'll need, including CHASM itself."
   ]
  },
  {
   "cell_type": "code",
   "execution_count": 1,
   "metadata": {},
   "outputs": [],
   "source": [
    "import numpy as np\n",
    "import matplotlib.pyplot as plt\n",
    "from CHASM import CHASM\n",
    "%matplotlib widget"
   ]
  },
  {
   "cell_type": "markdown",
   "metadata": {},
   "source": [
    "Now we need to define our array of telescopes. These need to be ahead of the shower to see any Cherenkov light. The origin of the CHASM coordinate system is where the shower axis intersects with Earth's surface. The z axis is vertical from that point, x axis is north, and y axis is west. It is convenient to define the shower axis using spherical coordinates, where we use the standard physics convention (theta is the polar angle measured down from the z axis). \n",
    "\n",
    "In this case, we will be simulating an tau primary air shower (upward going) from the charged-current decay of an Earth skimming tau neutrino. We want to simulate detectors in orbit, ~500 km above Earth's surface, which corresponds to ~2000 km along an axis with an 85 degree polar angle (see figure below). We create an array of detectors perpendicular to the shower axis (arrayed on the y axis) at this point in space."
   ]
  },
  {
   "cell_type": "code",
   "execution_count": 2,
   "metadata": {},
   "outputs": [],
   "source": [
    "r = 2141673\n",
    "theta = np.radians(85)\n",
    "arc = np.radians(2)\n",
    "phi = 0\n",
    "tel_vectors = np.empty([10000,3])\n",
    "theta_tel, phi_tel = np.mgrid[theta-arc:theta+arc:100j, -arc:arc:100j]\n",
    "\n",
    "tel_vectors[:,0] = r * np.sin(theta_tel.flatten()) * np.cos(phi_tel.flatten())\n",
    "tel_vectors[:,1] = r * np.sin(theta_tel.flatten()) * np.sin(phi_tel.flatten())\n",
    "tel_vectors[:,2] = r * np.cos(theta_tel.flatten())"
   ]
  },
  {
   "cell_type": "markdown",
   "metadata": {},
   "source": [
    "Now we input the shower parameters.\n",
    " - X_max: Depth along axis of shower maximum (g/cm^2)\n",
    " - N_max: Number of charged particles at shower maximum\n",
    " - h0: Height of first interaction above the ground level (meters)\n",
    " - theta: Polar angle of shower. (radians)\n",
    " - direction: Shower direction, either 'up' for upward going showers, or 'down' for downward going showers.\n",
    " - tel_vectors: User defined array of cartesian telescope locations.\n",
    " - min_l: Minimum accepted Cherenkov wavelength.\n",
    " - max_l: Maximum accepted Cherenkov wavelength.\n",
    " \n",
    " And instantiate CHASM"
   ]
  },
  {
   "cell_type": "code",
   "execution_count": 3,
   "metadata": {},
   "outputs": [],
   "source": [
    "ch = CHASM(765,8.e7,1.e3,theta,'up',tel_vectors,300,600)"
   ]
  },
  {
   "cell_type": "markdown",
   "metadata": {},
   "source": [
    "Now we have the shower and its cherenkov profile at our detectors. Let's plot some stuff. First, lets look at the shower in space. We will look at the shower and telescope locations relative to Earth's surface. First let's get the axis in cartesian coordinates directly from CHASM attributes. The array of distances along the shower axis is stored in the attribute 'axis_r.' We use the 'theta' and 'phi' to complete this definiton."
   ]
  },
  {
   "cell_type": "code",
   "execution_count": 4,
   "metadata": {},
   "outputs": [],
   "source": [
    "axis_r = np.linspace(0,r,100)\n",
    "\n",
    "x_full_axis = axis_r * np.sin(ch.theta) * np.cos(ch.phi)\n",
    "y_full_axis = axis_r * np.sin(ch.theta) * np.sin(ch.phi)\n",
    "z_full_axis = axis_r * np.cos(ch.theta)\n",
    "\n",
    "x_axis = ch.axis_r * np.sin(ch.theta) * np.cos(ch.phi)\n",
    "y_axis = ch.axis_r * np.sin(ch.theta) * np.sin(ch.phi)\n",
    "z_axis = ch.axis_r * np.cos(ch.theta)"
   ]
  },
  {
   "cell_type": "markdown",
   "metadata": {},
   "source": [
    "In order to time calculations in the atmosphere, we need to know how long a given Cherenkov photon bunch spends in each region of the atmosphere as it propagates to the counter location. We do this by calculating how long a photon would take to propagate vertically (since our atmospheric index of refraction delta is defined at various heights) then dividing by each unique propagation cosine. In order to obtain this cosine, we need to correct the propagation angles from our vector calculations, as they were relative to our original z-axis, not vertical in the atmosphere the bunch's origin location. This can be accomplished via the law of cosines on the inscribed triangle.\n",
    "\n",
    "$$ \\cos\\theta' = \\frac{h^2 + r^2 + 2Rh}{2r(R + h)} $$\n",
    "\n",
    "![Theta Correction](theta_correction.png)"
   ]
  },
  {
   "cell_type": "markdown",
   "metadata": {},
   "source": [
    "Now let's define the Earth's surface."
   ]
  },
  {
   "cell_type": "code",
   "execution_count": 5,
   "metadata": {},
   "outputs": [],
   "source": [
    "arc_angle = 5\n",
    "arc = np.linspace(-np.radians(arc_angle),3*np.radians(arc_angle),100)\n",
    "x_surf = ch.earth_radius * np.sin(arc)\n",
    "z_surf = ch.earth_radius * np.cos(arc) - ch.earth_radius\n",
    "\n",
    "x_atm = (ch.earth_radius + ch.atm.maximum_height) * np.sin(arc)\n",
    "z_atm = (ch.earth_radius + ch.atm.maximum_height) * np.cos(arc) - ch.earth_radius\n",
    "\n",
    "x_shower = ch.shower_r * np.sin(ch.theta)\n",
    "z_shower = ch.shower_r * np.cos(ch.theta)\n",
    "\n",
    "x_width = -ch.shower_rms_w * np.cos(ch.theta)\n",
    "z_width = ch.shower_rms_w * np.sin(ch.theta)"
   ]
  },
  {
   "cell_type": "markdown",
   "metadata": {},
   "source": [
    "The portion of the axis where the shower actually occurs is stored in the attribute 'shower_r.' Let's get the shower coordinates."
   ]
  },
  {
   "cell_type": "code",
   "execution_count": 6,
   "metadata": {},
   "outputs": [],
   "source": [
    "x_shower = ch.shower_r * np.sin(ch.theta) * np.cos(ch.phi)\n",
    "y_shower = ch.shower_r * np.sin(ch.theta) * np.sin(ch.phi)\n",
    "z_shower = ch.shower_r * np.cos(ch.theta)"
   ]
  },
  {
   "cell_type": "code",
   "execution_count": 7,
   "metadata": {},
   "outputs": [],
   "source": [
    "x_width = -ch.shower_rms_w * np.cos(ch.theta)\n",
    "z_width = ch.shower_rms_w * np.sin(ch.theta)"
   ]
  },
  {
   "cell_type": "code",
   "execution_count": 8,
   "metadata": {},
   "outputs": [
    {
     "data": {
      "application/vnd.jupyter.widget-view+json": {
       "model_id": "49f48d856dd64f14ad5f03b9e0c8344d",
       "version_major": 2,
       "version_minor": 0
      },
      "text/plain": [
       "Canvas(toolbar=Toolbar(toolitems=[('Home', 'Reset original view', 'home', 'home'), ('Back', 'Back to previous …"
      ]
     },
     "metadata": {},
     "output_type": "display_data"
    }
   ],
   "source": [
    "fig = plt.figure()\n",
    "ax = plt.gca()\n",
    "plt.plot(x_full_axis/1.e3,z_full_axis/1.e3, '--', color='k')\n",
    "plt.plot(x_axis/1.e3,z_axis/1.e3,'k',label='shower axis' )\n",
    "plt.plot(x_surf/1.e3,z_surf/1.e3,'b',label=\"Earth's surface\")\n",
    "plt.plot(x_atm/1.e3,z_atm/1.e3,'c',label=\"Top of Mesosphere\")\n",
    "plt.plot(ch.tel_vectors[:,0]/1.e3,ch.tel_vectors[:,2]/1.e3,'r', label='Counter Plane')\n",
    "plt.xlabel('x (km)')\n",
    "plt.ylabel('z (km)')\n",
    "plt.legend(fontsize = 'xx-small')\n",
    "plt.title('Upward Shower (85 degree polar angle')\n",
    "ax.set_aspect('equal')\n",
    "plt.grid()"
   ]
  },
  {
   "cell_type": "code",
   "execution_count": 9,
   "metadata": {
    "scrolled": false
   },
   "outputs": [
    {
     "data": {
      "application/vnd.jupyter.widget-view+json": {
       "model_id": "1d2dff81ead74d3596b1501397e9e4c6",
       "version_major": 2,
       "version_minor": 0
      },
      "text/plain": [
       "Canvas(toolbar=Toolbar(toolitems=[('Home', 'Reset original view', 'home', 'home'), ('Back', 'Back to previous …"
      ]
     },
     "metadata": {},
     "output_type": "display_data"
    },
    {
     "data": {
      "text/plain": [
       "<matplotlib.colorbar.Colorbar at 0x7f26a28f7fd0>"
      ]
     },
     "execution_count": 9,
     "metadata": {},
     "output_type": "execute_result"
    }
   ],
   "source": [
    "fig = plt.figure()\n",
    "cx = r*phi_tel.flatten()*1.e-3\n",
    "cy = r*theta_tel.flatten()*1.e-3\n",
    "h2d = plt.hist2d(cx,cy-np.median(cy),weights=ch.ng_sum,bins=100, cmap=plt.cm.jet)\n",
    "plt.title('Cherenkov Upward Shower footprint at ~500km')\n",
    "plt.xlabel('Counter Plane X-axis (km)')\n",
    "plt.ylabel('Counter Plane Y-axis (km)')\n",
    "ax = plt.gca()\n",
    "ax.set_aspect('equal')\n",
    "plt.colorbar(label = 'Number of Cherenkov Photons')"
   ]
  },
  {
   "cell_type": "code",
   "execution_count": 11,
   "metadata": {},
   "outputs": [
    {
     "data": {
      "application/vnd.jupyter.widget-view+json": {
       "model_id": "fa3a1bc2f43d4568822c2c4836b5eacd",
       "version_major": 2,
       "version_minor": 0
      },
      "text/plain": [
       "Canvas(toolbar=Toolbar(toolitems=[('Home', 'Reset original view', 'home', 'home'), ('Back', 'Back to previous …"
      ]
     },
     "metadata": {},
     "output_type": "display_data"
    },
    {
     "data": {
      "text/plain": [
       "Text(0.5, 1.0, 'Effect of Arrival Time Correction')"
      ]
     },
     "execution_count": 11,
     "metadata": {},
     "output_type": "execute_result"
    }
   ],
   "source": [
    "plt.figure()\n",
    "hb = plt.hist(ch.counter_time[ch.ng_sum.argmax()],\n",
    "                      100,\n",
    "                      weights=ch.ng[ch.ng_sum.argmax()],\n",
    "                      histtype='step',label='no correction')\n",
    "hc = plt.hist(ch.counter_time_prime[ch.ng_sum.argmax()],\n",
    "                      100,\n",
    "                      weights=ch.ng[ch.ng_sum.argmax()],\n",
    "                      histtype='step',label='correction')\n",
    "plt.xlabel('ns')\n",
    "plt.ylabel('# of Cherenkov Photons')\n",
    "plt.legend()\n",
    "plt.title('Effect of Arrival Time Correction')"
   ]
  },
  {
   "cell_type": "code",
   "execution_count": null,
   "metadata": {},
   "outputs": [],
   "source": []
  },
  {
   "cell_type": "code",
   "execution_count": null,
   "metadata": {},
   "outputs": [],
   "source": []
  }
 ],
 "metadata": {
  "hide_input": false,
  "kernelspec": {
   "display_name": "Python 3",
   "language": "python",
   "name": "python3"
  },
  "language_info": {
   "codemirror_mode": {
    "name": "ipython",
    "version": 3
   },
   "file_extension": ".py",
   "mimetype": "text/x-python",
   "name": "python",
   "nbconvert_exporter": "python",
   "pygments_lexer": "ipython3",
   "version": "3.8.3"
  }
 },
 "nbformat": 4,
 "nbformat_minor": 4
}
